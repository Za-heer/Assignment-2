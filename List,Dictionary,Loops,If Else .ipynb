{
 "cells": [
  {
   "cell_type": "markdown",
   "id": "bd276e92",
   "metadata": {},
   "source": [
    "## Scenario 1: Grocery Shopping List\n",
    "You are creating a program to manage a grocery shopping list. Users should be able to add items, remove items, and display the current list"
   ]
  },
  {
   "cell_type": "code",
   "execution_count": 1,
   "id": "2966cf69",
   "metadata": {},
   "outputs": [
    {
     "name": "stdout",
     "output_type": "stream",
     "text": [
      "Enter number of value :3\n",
      "Enter your list :apple\n",
      "Enter your list :banana\n",
      "Enter your list :kiwi\n",
      "Your list : ['apple', 'banana', 'kiwi']\n",
      "Are you want yo remove any item ? (Yes/No)yes\n",
      "Enter which item you want to remove :apple\n",
      "Your List Item : ['banana', 'kiwi']\n"
     ]
    }
   ],
   "source": [
    "shopping_list = []\n",
    "no_value = int(input(\"Enter number of value :\"))\n",
    "for _ in range(no_value):\n",
    "    add_value = input(\"Enter your list :\")\n",
    "    shopping_list.append(add_value)\n",
    "    \n",
    "print(\"Your list :\", shopping_list)\n",
    "ques = input(\"Are you want yo remove any item ? (Yes/No)\").lower()\n",
    "if ques == \"yes\":\n",
    "    value_remove = input(\"Enter which item you want to remove :\")\n",
    "    for x in shopping_list:\n",
    "        if value_remove in shopping_list:\n",
    "            shopping_list.remove(value_remove)\n",
    "print(\"Your List Item :\",shopping_list)"
   ]
  },
  {
   "cell_type": "markdown",
   "id": "c06f85a9",
   "metadata": {},
   "source": [
    "### Scenario 2: Student Grades\n",
    "You are managing student grades using a dictionary. You need to calculate the average grade.take \n",
    "atleast 5 Students grades & then calculate the average."
   ]
  },
  {
   "cell_type": "code",
   "execution_count": 2,
   "id": "f7b127e7",
   "metadata": {},
   "outputs": [
    {
     "name": "stdout",
     "output_type": "stream",
     "text": [
      "Average of student 1 is :72.0\n",
      "Average of student 2 is :67.6\n",
      "Average of student 3 is :72.8\n",
      "Average of student 4 is :68.6\n",
      "Average of student 5 is :77.4\n",
      "The Total Average Of Five Student are : 71.67999999999999\n"
     ]
    }
   ],
   "source": [
    "student1 = {\n",
    "    \"Math\" : 80,\n",
    "    \"Phy\" : 70,\n",
    "    \"Bio\" : 60,\n",
    "    \"Comp\" : 85,\n",
    "    \"Che\" : 65\n",
    "}\n",
    "av_std1 = sum(student1.values())/len(student1)\n",
    "print(f\"Average of student 1 is :{av_std1}\")\n",
    "student2 = {\n",
    "    \"Math\" : 80,\n",
    "    \"Phy\" : 75,\n",
    "    \"Bio\" : 63,\n",
    "    \"Comp\" : 55,\n",
    "    \"Che\" : 65\n",
    "}\n",
    "av_std2 = sum(student2.values())/len(student2)\n",
    "print(f\"Average of student 2 is :{av_std2}\")\n",
    "student3 = {\n",
    "    \"Math\" : 90,\n",
    "    \"Phy\" : 71,\n",
    "    \"Bio\" : 40,\n",
    "    \"Comp\" : 98,\n",
    "    \"Che\" : 65\n",
    "}\n",
    "av_std3 = sum(student3.values())/len(student3)\n",
    "print(f\"Average of student 3 is :{av_std3}\")\n",
    "student4 = {\n",
    "    \"Math\" : 50,\n",
    "    \"Phy\" : 71,\n",
    "    \"Bio\" : 73,\n",
    "    \"Comp\" : 86,\n",
    "    \"Che\" : 63\n",
    "}\n",
    "av_std4 = sum(student4.values())/len(student4)\n",
    "print(f\"Average of student 4 is :{av_std4}\")\n",
    "student5 = {\n",
    "    \"Math\" : 66,\n",
    "    \"Phy\" : 74,\n",
    "    \"Bio\" : 82,\n",
    "    \"Comp\" : 75,\n",
    "    \"Che\" : 90\n",
    "    \n",
    "}\n",
    "av_std5 = sum(student5.values())/len(student5)\n",
    "print(f\"Average of student 5 is :{av_std5}\")\n",
    "\n",
    "total_grade = (av_std1+av_std2+av_std3+av_std4+av_std5)\n",
    "total_average = total_grade/5\n",
    "print(f\"The Total Average Of Five Student are : {total_average}\")"
   ]
  },
  {
   "cell_type": "markdown",
   "id": "623a5ff4",
   "metadata": {},
   "source": [
    "## Scenario 3: Word Frequency Counter\n",
    "You are given a list of words, and you need to count the frequency of each word.\n",
    "word_list = [\"apple\", \"banana\", \"apple\", \"orange\", \"banana\", \"grape\", \"apple\"]"
   ]
  },
  {
   "cell_type": "code",
   "execution_count": 3,
   "id": "05ed8987",
   "metadata": {},
   "outputs": [
    {
     "name": "stdout",
     "output_type": "stream",
     "text": [
      "{'apple': 3, 'banana': 2, 'orange': 1, 'grape': 1}\n"
     ]
    }
   ],
   "source": [
    "word_list = [\"apple\", \"banana\", \"apple\", \"orange\", \"banana\", \"grape\", \"apple\"]\n",
    "frequency = {}\n",
    "for x in word_list:\n",
    "    if x in frequency:\n",
    "        frequency[x] +=1\n",
    "    else:\n",
    "        frequency[x] = 1\n",
    "        \n",
    "print(frequency)"
   ]
  },
  {
   "cell_type": "markdown",
   "id": "a91b765d",
   "metadata": {},
   "source": [
    "#### Scenario 4: Password Strength Checker\n",
    "You are creating a program to check the strength of passwords based on certain criteria.\n",
    "• Password should be at least 8 characters long.\n",
    "• Password should contain at least one digit.\n",
    "• Password should contain at least one letter."
   ]
  },
  {
   "cell_type": "code",
   "execution_count": 4,
   "id": "6c497971",
   "metadata": {},
   "outputs": [
    {
     "name": "stdout",
     "output_type": "stream",
     "text": [
      "Create your Password : zaheer123\n",
      "Password meets the criteria.\n"
     ]
    }
   ],
   "source": [
    "password = input(\"Create your Password : \")\n",
    "if (len(password) < 8 or not any(char.isalpha() for char in password) or not any(char.isdigit() for char in password)):\n",
    "    print(\"Please create a strong password.\")\n",
    "else:\n",
    "    print(\"Password meets the criteria.\")\n",
    "\n"
   ]
  },
  {
   "cell_type": "markdown",
   "id": "be092b31",
   "metadata": {},
   "source": [
    "## Scenario 05: Voting System (Annual Employee Recognition Awards)\n",
    "You are developing a simple voting system for a contest. Users can vote for their Favorite option, and \n",
    "you need to count the votes.\n",
    "In a corporate setting, the HR department is organizing the Annual Employee Recognition Awards, \n",
    "where employees get the opportunity to vote for their colleagues nominated in different categories. \n",
    "The HR team has decided to use a simple voting system to collect and tally votes for the nominees in \n",
    "various award categories. The script provided will be utilized for this purpose.\n",
    "Candidates: The nominees for different award categories, such as \"Employee of the Year,\" \"Team \n",
    "Player of the Year,\" and \"Innovation Award,\" are represented by the list of candidates: 'Candidate A,' \n",
    "'Candidate B,' and 'Candidate C.'\n",
    "Voting Process: Employees are requested to input the number of voters participating in the awards. \n",
    "Each voter is presented with a list of nominees, and they can vote for their preferred candidate by \n",
    "entering the corresponding number.\n",
    "Validation: The script ensures that the entered vote is within the valid range of candidates. If an \n",
    "employee enters an invalid vote, the system prompts them to choose a valid candidate.\n",
    "Recording Votes: The script records each vote for the selected candidate and prints a confirmation \n",
    "message indicating that the vote has been recorded.\n",
    "Results Display: Once all votes are collected, the system displays the voting results, showing the \n",
    "number of votes each candidate received in each category.\n",
    "Award Winners: Based on the voting results, the HR department can identify the winners for each \n",
    "award category and proceed with recognizing and rewarding the selected employees during the \n",
    "Annual Employee Recognition Ceremony.\n",
    "This script provides a straightforward and transparent way for employees to participate in the \n",
    "recognition process, fostering a sense of engagement and community within the organization. The \n",
    "HR team can use the collected votes to acknowledge and appreciate the efforts of outstanding \n",
    "employees in various aspects of their work"
   ]
  },
  {
   "cell_type": "code",
   "execution_count": 5,
   "id": "5354fa5f",
   "metadata": {},
   "outputs": [
    {
     "name": "stdout",
     "output_type": "stream",
     "text": [
      "Enter the number of voters participating in the awards6\n",
      "Enter 1 for candidate A.\n",
      "Enter 2 for candidate B.\n",
      "Enter 3 for candidate C.\n",
      "1\n",
      "Your vote is recorded for candidate_A\n",
      "Enter 1 for candidate A.\n",
      "Enter 2 for candidate B.\n",
      "Enter 3 for candidate C.\n",
      "2\n",
      "Your vote is recorded for candidate_B\n",
      "Enter 1 for candidate A.\n",
      "Enter 2 for candidate B.\n",
      "Enter 3 for candidate C.\n",
      "2\n",
      "Your vote is recorded for candidate_B\n",
      "Enter 1 for candidate A.\n",
      "Enter 2 for candidate B.\n",
      "Enter 3 for candidate C.\n",
      "3\n",
      "Your vote is recorded for candidate_C\n",
      "Enter 1 for candidate A.\n",
      "Enter 2 for candidate B.\n",
      "Enter 3 for candidate C.\n",
      "1\n",
      "Your vote is recorded for candidate_A\n",
      "Enter 1 for candidate A.\n",
      "Enter 2 for candidate B.\n",
      "Enter 3 for candidate C.\n",
      "2\n",
      "Your vote is recorded for candidate_B\n",
      "Voting Result\n",
      "candidate_A Total votes count: 2 \n",
      "candidate_B Total votes count: 3\n",
      "candidate_C Total votes count: 1\n"
     ]
    }
   ],
   "source": [
    "no_of_voters = int(input(\"Enter the number of voters participating in the awards\"))\n",
    "candidateAVote = 0\n",
    "candidateBVote = 0\n",
    "candidateCVote = 0\n",
    "for x in range(no_of_voters):\n",
    "    votes = int(input(\"Enter 1 for candidate A.\\nEnter 2 for candidate B.\\nEnter 3 for candidate C.\\n\"))\n",
    "    \n",
    "    if votes > 0 and votes < 4:\n",
    "        if votes == 1:\n",
    "            candidateAVote += 1\n",
    "            print(f\"Your vote is recorded for candidate_A\")\n",
    "        elif votes == 2:\n",
    "            candidateBVote += 1\n",
    "            print(f\"Your vote is recorded for candidate_B\")\n",
    "        else:\n",
    "            candidateCVote += 1\n",
    "            print(f\"Your vote is recorded for candidate_C\")      \n",
    "    else:\n",
    "        print(\"Invalid vote : Please choose a valid candidate\")\n",
    "        \n",
    "print(\"Voting Result\")\n",
    "print(f\"candidate_A Total votes count: {candidateAVote} \\ncandidate_B Total votes count: {candidateBVote}\\ncandidate_C Total votes count: {candidateCVote}\")\n"
   ]
  }
 ],
 "metadata": {
  "kernelspec": {
   "display_name": "Python 3 (ipykernel)",
   "language": "python",
   "name": "python3"
  },
  "language_info": {
   "codemirror_mode": {
    "name": "ipython",
    "version": 3
   },
   "file_extension": ".py",
   "mimetype": "text/x-python",
   "name": "python",
   "nbconvert_exporter": "python",
   "pygments_lexer": "ipython3",
   "version": "3.11.5"
  }
 },
 "nbformat": 4,
 "nbformat_minor": 5
}
